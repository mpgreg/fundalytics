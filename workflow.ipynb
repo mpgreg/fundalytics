{
 "cells": [
  {
   "cell_type": "code",
   "execution_count": null,
   "metadata": {},
   "outputs": [],
   "source": [
    "!pip install weaviate-client==4.6.3 streamlit==1.35.0 streamlit_aggrid==1.0.5 ipywidgets git+https://github.com/mpgreg/funda-scraper.git@main"
   ]
  },
  {
   "cell_type": "code",
   "execution_count": null,
   "metadata": {},
   "outputs": [],
   "source": [
    "!docker compose up -d"
   ]
  },
  {
   "cell_type": "code",
   "execution_count": null,
   "metadata": {},
   "outputs": [],
   "source": [
    "from funda_scraper import FundaScraper\n",
    "import pandas as pd\n",
    "import base64\n",
    "import requests\n",
    "import weaviate\n",
    "from weaviate.util import generate_uuid5\n",
    "import json"
   ]
  },
  {
   "cell_type": "code",
   "execution_count": null,
   "metadata": {},
   "outputs": [],
   "source": [
    "COLLECTION_DEF_FILE = 'collection_def.json'\n",
    "TEST_CITY_NAME = 'amsterdam'\n",
    "\n",
    "client = weaviate.connect_to_local()\n",
    "\n",
    "try:\n",
    "\n",
    "    current_collections = client.collections.list_all()\n",
    "\n",
    "    with open(COLLECTION_DEF_FILE) as f:\n",
    "        collection_def = json.load(f)\n",
    "\n",
    "    if collection_def['class'] not in current_collections.keys():\n",
    "        client.collections.create_from_dict(config=collection_def)\n",
    "\n",
    "finally:\n",
    "    client.close()"
   ]
  },
  {
   "cell_type": "markdown",
   "metadata": {},
   "source": [
    "Data processing and import will be done interactively.  Here we run a quick test to make sure that everything is working during startup."
   ]
  },
  {
   "cell_type": "code",
   "execution_count": null,
   "metadata": {},
   "outputs": [],
   "source": [
    "scraper = FundaScraper(area=TEST_CITY_NAME, want_to=\"buy\", find_past=False, page_start=1, n_pages=1)\n",
    "df = scraper.run(raw_data=False, save=False)\n",
    "df.set_index('house_id', inplace=True)"
   ]
  },
  {
   "cell_type": "markdown",
   "metadata": {},
   "source": [
    "For multi-modal search we will use the first (main) photo for the listing.  (Future work: process all images into a separate collection for refined searching)"
   ]
  },
  {
   "cell_type": "code",
   "execution_count": null,
   "metadata": {},
   "outputs": [],
   "source": [
    "photos_df = df['photo'].apply(lambda x: x.split(',')).explode()\n",
    "photos_df = photos_df.apply(lambda x: x.split()).apply(pd.Series)\n",
    "photos_df = photos_df[photos_df[1] == \"180w\"].drop(1, axis=1)\n",
    "\n",
    "cover_photos = photos_df.groupby('house_id').agg(\n",
    "    image_url = (0, lambda x: str(x.tolist()[0]))\n",
    "    )\n",
    "cover_photos['image_enc'] = cover_photos['image_url'].apply(\n",
    "    lambda x: base64.b64encode(requests.get(x).content).decode(\"utf-8\")\n",
    "    )"
   ]
  },
  {
   "cell_type": "code",
   "execution_count": null,
   "metadata": {},
   "outputs": [],
   "source": [
    "ingest_df = df.join(cover_photos).drop('photo', axis=1).reset_index()\n",
    "ingest_df['uuid'] = ingest_df['house_id'].apply(lambda x: generate_uuid5(x))\n",
    "\n",
    "ingest_df['house_id'] = ingest_df['house_id'].apply(str)"
   ]
  },
  {
   "cell_type": "code",
   "execution_count": null,
   "metadata": {},
   "outputs": [],
   "source": [
    "client = weaviate.connect_to_local()\n",
    "\n",
    "try:\n",
    "    collection = client.collections.get(collection_def['class'])\n",
    "\n",
    "    results = []\n",
    "    with collection.batch.dynamic() as batch:\n",
    "        for data_row in ingest_df.to_dict('records'):\n",
    "            results.append(batch.add_object(\n",
    "                uuid=data_row['uuid'],\n",
    "                properties=data_row,\n",
    "            ))\n",
    "\n",
    "finally:\n",
    "    client.close()"
   ]
  },
  {
   "cell_type": "code",
   "execution_count": null,
   "metadata": {},
   "outputs": [],
   "source": [
    "results"
   ]
  },
  {
   "cell_type": "markdown",
   "metadata": {},
   "source": [
    "This is a very crude test to check imported items.  For anything more than a POC much more sophisticated ingest and checking is needed."
   ]
  },
  {
   "cell_type": "code",
   "execution_count": null,
   "metadata": {},
   "outputs": [],
   "source": [
    "client = weaviate.connect_to_local()\n",
    "\n",
    "try:\n",
    "    collection = client.collections.get(collection_def['class'])\n",
    "\n",
    "    imported_rows = []\n",
    "\n",
    "    for item in collection.iterator():\n",
    "        print(item.uuid, item.properties)\n",
    "        imported_rows.append(str(item.uuid))\n",
    "\n",
    "finally:\n",
    "    client.close()"
   ]
  },
  {
   "cell_type": "code",
   "execution_count": null,
   "metadata": {},
   "outputs": [],
   "source": [
    "assert set(results) == set(imported_rows)"
   ]
  },
  {
   "cell_type": "code",
   "execution_count": null,
   "metadata": {},
   "outputs": [],
   "source": [
    "!streamlit run streamlit/fundalytics_app.py"
   ]
  },
  {
   "cell_type": "code",
   "execution_count": null,
   "metadata": {},
   "outputs": [],
   "source": [
    "!docker compose down"
   ]
  },
  {
   "cell_type": "code",
   "execution_count": null,
   "metadata": {},
   "outputs": [],
   "source": []
  }
 ],
 "metadata": {
  "kernelspec": {
   "display_name": "snowstorm",
   "language": "python",
   "name": "python3"
  },
  "language_info": {
   "codemirror_mode": {
    "name": "ipython",
    "version": 3
   },
   "file_extension": ".py",
   "mimetype": "text/x-python",
   "name": "python",
   "nbconvert_exporter": "python",
   "pygments_lexer": "ipython3",
   "version": "3.10.11"
  },
  "orig_nbformat": 4
 },
 "nbformat": 4,
 "nbformat_minor": 2
}
